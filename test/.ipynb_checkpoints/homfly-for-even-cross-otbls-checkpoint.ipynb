{
 "cells": [
  {
   "cell_type": "markdown",
   "metadata": {},
   "source": [
    "# The HOMFLY Polynomials of Even-Crossing Trigonal Bipyramid Links"
   ]
  },
  {
   "cell_type": "markdown",
   "metadata": {},
   "source": [
    "A Python module `homfly.py` is developed for calculating the HOMFLY polynomials of oriented links. It is now only supported for even-crossing trigonal bipyramid links. The following shows the ways to use it."
   ]
  },
  {
   "cell_type": "markdown",
   "metadata": {},
   "source": [
    "## A Simple Instance"
   ]
  },
  {
   "cell_type": "code",
   "execution_count": 1,
   "metadata": {},
   "outputs": [],
   "source": [
    "import sys\n",
    "sys.path.append('../src')"
   ]
  },
  {
   "cell_type": "code",
   "execution_count": 2,
   "metadata": {},
   "outputs": [
    {
     "data": {
      "text/latex": [
       "$\\displaystyle \\frac{v^{- 46 n - 2} \\left(v^{50 n} \\left(v^{2} - 1\\right)^{10} \\left(v^{2 n} \\left(v^{2 n} - 1\\right)^{3} + 3 v^{2 n} \\left(v^{2 n} - 1\\right)^{2} + 3 v^{2 n} \\left(v^{2 n} - 1\\right) - \\left(v^{2 n} - 1\\right)^{2} + 1\\right) + v^{40 n + 4} z^{4} \\left(v^{2} - 1\\right)^{6} \\left(v^{2 n} - 1\\right)^{6} + 3 v^{40 n + 6} z^{6} \\left(v^{2} - 1\\right)^{4} \\left(v^{2 n} - 1\\right)^{7} + 3 v^{40 n + 8} z^{8} \\left(v^{2} - 1\\right)^{2} \\left(v^{2 n} - 1\\right)^{8} + v^{40 n + 10} z^{10} \\left(v^{2 n} - 1\\right)^{9} - 6 v^{42 n + 4} z^{4} \\left(v^{2} - 1\\right)^{6} \\left(v^{2 n} - 1\\right)^{5} - v^{42 n + 6} z^{6} \\left(v^{2} - 1\\right)^{4} \\left(v^{2 n} - 1\\right)^{6} \\left(v^{2 n} + 17\\right) - v^{42 n + 8} z^{8} \\left(v^{2} - 1\\right)^{2} \\left(v^{2 n} - 1\\right)^{7} \\left(2 v^{2 n} + 15\\right) - 4 v^{42 n + 10} z^{10} \\left(v^{2 n} - 1\\right)^{8} + v^{44 n + 4} z^{4} \\left(v^{2} - 1\\right)^{6} \\left(v^{2 n} - 1\\right)^{4} \\left(4 v^{2 n} + 11\\right) + v^{44 n + 6} z^{6} \\left(v^{2} - 1\\right)^{4} \\left(v^{2 n} - 1\\right)^{5} \\left(15 v^{2 n} + \\left(v^{2 n} - 1\\right)^{2} + 26\\right) + 2 v^{44 n + 8} z^{8} \\left(v^{2} - 1\\right)^{2} \\left(v^{2 n} - 1\\right)^{6} \\left(7 v^{2 n} + 8\\right) + v^{46 n + 2} z^{4} \\left(v^{2} - 1\\right)^{6} \\left(v^{2 n} - 1\\right)^{2} \\left(18 v^{2} \\left(1 - v^{2 n}\\right) - 5 v^{2} \\left(v^{2 n} - 1\\right)^{3} - 27 v^{2} \\left(v^{2 n} - 1\\right)^{2} + 15 v^{2 n + 2} \\left(v^{2 n} - 1\\right)^{3} + 44 v^{2 n + 2} \\left(v^{2 n} - 1\\right)^{2} + 37 v^{2 n + 2} \\left(v^{2 n} - 1\\right) + 8 v^{2 n + 2}\\right) + v^{46 n + 2} z^{2} \\left(v^{2} - 1\\right)^{8} \\left(5 v^{4 n} \\left(1 - v^{2 n}\\right) - 6 v^{4 n} \\left(v^{2 n} - 1\\right)^{4} - 18 v^{4 n} \\left(v^{2 n} - 1\\right)^{3} - 17 v^{4 n} \\left(v^{2 n} - 1\\right)^{2} + v^{2 n} \\left(v^{2 n} - 1\\right)^{4} + 8 v^{2 n} \\left(v^{2 n} - 1\\right)^{3} + 7 v^{2 n} \\left(v^{2 n} - 1\\right)^{2} - 2 \\left(v^{2 n} - 1\\right)^{3}\\right) + v^{46 n + 6} z^{6} \\left(v^{2} - 1\\right)^{4} \\left(v^{2 n} - 1\\right)^{4} \\left(- 55 v^{2 n} - 20 \\left(v^{2 n} - 1\\right)^{2} + 22\\right)\\right)}{z^{2} \\left(v^{2} - 1\\right)^{8}}$"
      ],
      "text/plain": [
       "v**(-46*n - 2)*(v**(50*n)*(v**2 - 1)**10*(v**(2*n)*(v**(2*n) - 1)**3 + 3*v**(2*n)*(v**(2*n) - 1)**2 + 3*v**(2*n)*(v**(2*n) - 1) - (v**(2*n) - 1)**2 + 1) + v**(40*n + 4)*z**4*(v**2 - 1)**6*(v**(2*n) - 1)**6 + 3*v**(40*n + 6)*z**6*(v**2 - 1)**4*(v**(2*n) - 1)**7 + 3*v**(40*n + 8)*z**8*(v**2 - 1)**2*(v**(2*n) - 1)**8 + v**(40*n + 10)*z**10*(v**(2*n) - 1)**9 - 6*v**(42*n + 4)*z**4*(v**2 - 1)**6*(v**(2*n) - 1)**5 - v**(42*n + 6)*z**6*(v**2 - 1)**4*(v**(2*n) - 1)**6*(v**(2*n) + 17) - v**(42*n + 8)*z**8*(v**2 - 1)**2*(v**(2*n) - 1)**7*(2*v**(2*n) + 15) - 4*v**(42*n + 10)*z**10*(v**(2*n) - 1)**8 + v**(44*n + 4)*z**4*(v**2 - 1)**6*(v**(2*n) - 1)**4*(4*v**(2*n) + 11) + v**(44*n + 6)*z**6*(v**2 - 1)**4*(v**(2*n) - 1)**5*(15*v**(2*n) + (v**(2*n) - 1)**2 + 26) + 2*v**(44*n + 8)*z**8*(v**2 - 1)**2*(v**(2*n) - 1)**6*(7*v**(2*n) + 8) + v**(46*n + 2)*z**4*(v**2 - 1)**6*(v**(2*n) - 1)**2*(18*v**2*(1 - v**(2*n)) - 5*v**2*(v**(2*n) - 1)**3 - 27*v**2*(v**(2*n) - 1)**2 + 15*v**(2*n + 2)*(v**(2*n) - 1)**3 + 44*v**(2*n + 2)*(v**(2*n) - 1)**2 + 37*v**(2*n + 2)*(v**(2*n) - 1) + 8*v**(2*n + 2)) + v**(46*n + 2)*z**2*(v**2 - 1)**8*(5*v**(4*n)*(1 - v**(2*n)) - 6*v**(4*n)*(v**(2*n) - 1)**4 - 18*v**(4*n)*(v**(2*n) - 1)**3 - 17*v**(4*n)*(v**(2*n) - 1)**2 + v**(2*n)*(v**(2*n) - 1)**4 + 8*v**(2*n)*(v**(2*n) - 1)**3 + 7*v**(2*n)*(v**(2*n) - 1)**2 - 2*(v**(2*n) - 1)**3) + v**(46*n + 6)*z**6*(v**2 - 1)**4*(v**(2*n) - 1)**4*(-55*v**(2*n) - 20*(v**(2*n) - 1)**2 + 22))/(z**2*(v**2 - 1)**8)"
      ]
     },
     "execution_count": 2,
     "metadata": {},
     "output_type": "execute_result"
    }
   ],
   "source": [
    "from homfly import link, homfly_for_even_cross_otbl\n",
    "from sympy import *\n",
    "\n",
    "otbl = link()\n",
    "otbl.string = \"ah ah av ah ah ah ah av av\".split()\n",
    "otbl.homfly = homfly_for_even_cross_otbl(otbl)\n",
    "simplify(otbl.homfly)"
   ]
  },
  {
   "cell_type": "markdown",
   "metadata": {},
   "source": [
    "## Calculating HOMFLY Polynomials of All $2n$ OTBLs"
   ]
  },
  {
   "cell_type": "code",
   "execution_count": 3,
   "metadata": {},
   "outputs": [],
   "source": [
    "otbls = []\n",
    "with open('even-cross-otbls.txt', 'rt') as in_file:\n",
    "    for line in in_file:\n",
    "        otbl = link()\n",
    "        otbl.string = line.split()\n",
    "        otbl.homfly = homfly_for_even_cross_otbl(otbl)\n",
    "        otbl.homfly = simplify(otbl.homfly)\n",
    "        otbls.append(otbl)\n",
    "\n",
    "with open('otbls-homfly.txt', 'wt') as out_file:\n",
    "    for otbl in otbls:\n",
    "        print(latex(otbl.homfly), file=out_file)"
   ]
  },
  {
   "cell_type": "markdown",
   "metadata": {},
   "source": [
    "## Comparing Expressions to Find OTBLs with Different Polynomials"
   ]
  },
  {
   "cell_type": "code",
   "execution_count": 13,
   "metadata": {},
   "outputs": [
    {
     "name": "stdout",
     "output_type": "stream",
     "text": [
      "These OTBLs are different with each other (74):\n",
      "[0, 1, 2, 3, 4, 5, 6, 7, 9, 11, 12, 13, 14, 15, 18, 19, 20, 21, 22, 23, 24, 25, 26, 29, 30, 31, 32, 33, 34, 35, 36, 37, 44, 45, 46, 49, 50, 51, 52, 54, 55, 56, 57, 58, 59, 60, 61, 67, 68, 69, 72, 73, 74, 75, 77, 78, 79, 80, 81, 82, 84, 85, 86, 87, 88, 91, 93, 96, 97, 99, 100, 101, 102, 103]\n"
     ]
    }
   ],
   "source": [
    "homflys = [otbl.homfly for otbl in otbls]\n",
    "diff_set = {otbl.homfly for otbl in otbls}\n",
    "diff_arr = list(diff_set)\n",
    "diff_idx = [homflys.index(item) for item in diff_arr]\n",
    "diff_idx.sort()\n",
    "print(f'These OTBLs are different with each other ({len(diff_idx)}):', diff_idx, sep='\\n')\n",
    "\n",
    "diff_otbls = [otbls[i] for i in diff_idx]\n",
    "with open('diff-otbls-homfly.txt', 'wt') as out_file:\n",
    "    for diff_otbl in diff_otbls:\n",
    "        print(latex(diff_otbl.homfly), file=out_file)"
   ]
  },
  {
   "cell_type": "markdown",
   "metadata": {},
   "source": [
    "## The Topological Chirality of OTBLs"
   ]
  },
  {
   "cell_type": "code",
   "execution_count": 14,
   "metadata": {},
   "outputs": [
    {
     "name": "stdout",
     "output_type": "stream",
     "text": [
      "These OTBLs are chiral (74):\n",
      "[0, 1, 2, 3, 4, 5, 6, 7, 8, 9, 10, 11, 12, 13, 14, 15, 16, 17, 18, 19, 20, 21, 22, 23, 24, 25, 26, 27, 28, 29, 30, 31, 32, 33, 34, 35, 36, 37, 38, 39, 40, 41, 42, 43, 44, 45, 46, 47, 48, 49, 50, 51, 52, 53, 54, 55, 56, 57, 58, 59, 60, 61, 62, 63, 64, 65, 66, 67, 68, 69, 70, 71, 72, 73]\n"
     ]
    }
   ],
   "source": [
    "from homfly import v\n",
    "\n",
    "chiral_idx = []\n",
    "for i, diff_otbl in enumerate(diff_otbls):\n",
    "    if diff_otbl.homfly != diff_otbl.homfly.subs(v, -v**(-1)):\n",
    "        chiral_idx.append(i)\n",
    "print(f'These OTBLs are chiral ({len(chiral_idx)}):', chiral_idx, sep='\\n')"
   ]
  },
  {
   "cell_type": "code",
   "execution_count": null,
   "metadata": {},
   "outputs": [],
   "source": []
  }
 ],
 "metadata": {
  "kernelspec": {
   "display_name": "Python 3",
   "language": "python",
   "name": "python3"
  },
  "language_info": {
   "codemirror_mode": {
    "name": "ipython",
    "version": 3
   },
   "file_extension": ".py",
   "mimetype": "text/x-python",
   "name": "python",
   "nbconvert_exporter": "python",
   "pygments_lexer": "ipython3",
   "version": "3.7.4"
  }
 },
 "nbformat": 4,
 "nbformat_minor": 4
}
