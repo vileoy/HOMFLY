{
 "cells": [
  {
   "cell_type": "code",
   "execution_count": null,
   "metadata": {},
   "outputs": [],
   "source": [
    "    \"\"\"\n",
    "    Criterion 1: if zeros appear in the specified place?\n",
    "    \n",
    "    Parameters\n",
    "    ----------\n",
    "    bl: str\n",
    "      basis link\n",
    "      \n",
    "    Returns\n",
    "    -------\n",
    "    : bool\n",
    "      true or false\n",
    "    \"\"\""
   ]
  },
  {
   "cell_type": "code",
   "execution_count": 55,
   "metadata": {},
   "outputs": [],
   "source": [
    "import sympy\n",
    "\n",
    "n, v, z = sympy.symbols('n v z')\n",
    "\n",
    "class link():\n",
    "    def __init__(self):\n",
    "        self.string = 'trivial'\n",
    "        self.homfly = 1\n",
    "\n",
    "def cri1(s):\n",
    "    if s[0] == s[1] == s[2] == '0' or\\\n",
    "       s[6] == s[7] == s[8] == '0' or\\\n",
    "       s[0] == s[3] == s[5] == s[6] == '0' or\\\n",
    "       s[1] == s[3] == s[4] == s[7] == '0' or\\\n",
    "       s[2] == s[4] == s[5] == s[8] == '0':\n",
    "        return True\n",
    "    else:\n",
    "        return False\n",
    "    \n",
    "def cri2(s):\n",
    "    if s[0] == s[1] == s[4] == s[5] == s[8] == '0' or\\\n",
    "       s[1] == s[2] == s[3] == s[5] == s[6] == '0' or\\\n",
    "       s[0] == s[2] == s[3] == s[4] == s[7] == '0' or\\\n",
    "       s[0] == s[3] == s[5] == s[7] == s[8] == '0' or\\\n",
    "       s[1] == s[3] == s[4] == s[6] == s[8] == '0' or\\\n",
    "       s[2] == s[4] == s[5] == s[6] == s[7] == '0':\n",
    "        return True\n",
    "    else:\n",
    "        return False\n",
    "    \n",
    "def cri3(s):\n",
    "    if s[0] == s[1] == s[2] == s[6] == s[7] == s[8] == '0' or\\\n",
    "       s[0] == s[1] == s[2] == s[3] == s[5] == s[6] == '0' or\\\n",
    "       s[0] == s[1] == s[2] == s[3] == s[4] == s[7] == '0' or\\\n",
    "       s[0] == s[1] == s[2] == s[4] == s[5] == s[8] == '0' or\\\n",
    "       s[0] == s[3] == s[5] == s[6] == s[7] == s[8] == '0' or\\\n",
    "       s[1] == s[3] == s[4] == s[6] == s[7] == s[8] == '0' or\\\n",
    "       s[2] == s[4] == s[5] == s[6] == s[7] == s[8] == '0':\n",
    "        return True\n",
    "    else:\n",
    "        return False\n",
    "\n",
    "bls = []\n",
    "for q in range(2 ** 9):\n",
    "    bl = link()\n",
    "    bl.string = \"{0:09b}\".format(q)\n",
    "    nz = bl.string.count('0')\n",
    "    \n",
    "    nc = 0\n",
    "    if nz <= 2: nc = 6 - nz\n",
    "    elif nz >= 3 and nz <= 4:\n",
    "        nc = (8 - nz) if cri1(bl.string) else (6 - nz)\n",
    "    elif nz == 5:\n",
    "        nc = 3 if cri2(bl.string) else ((8 - nz) if cri1(bl.string) else (6 - nz))\n",
    "    elif nz == 6:\n",
    "        nc = 4 if cri3(bl.string) else 2\n",
    "    elif nz == 7: nc = 3\n",
    "    elif nz == 8: nc = 4\n",
    "    elif nz == 9: nc = 5\n",
    "    \n",
    "    bl.homfly = 1 if nc == 1 else ((v**(-1) - v) * z**(-1))**(nc - 1)\n",
    "    bls.append(bl)\n",
    "\n",
    "def multiplier(tangle, theta):\n",
    "    if 'h' in tangle and theta == '1':\n",
    "        return v**(2 * n)\n",
    "    elif 'h' in tangle and theta == '0':\n",
    "        return (v * z * (1 - v**(2 * n))) / (1 - v**2)\n",
    "    elif 'v' in tangle and theta == '1':\n",
    "        return (z * (1 - v**(-2 * n))) / (v**(-1) - v)\n",
    "    elif 'v' in tangle and theta == '0':\n",
    "        return v**(-2 * n)\n",
    "\n",
    "def weight(otbl, bl):\n",
    "    w = 1\n",
    "    for tangle, theta in zip(otbl.string, bl.string):\n",
    "        w *= multiplier(tangle, theta)\n",
    "    return w\n",
    "\n",
    "def homfly_for_even_cross_otbl(otbl):\n",
    "    polynomial = 0\n",
    "    for bl in bls:\n",
    "        polynomial += weight(otbl, bl) * bl.homfly\n",
    "    return polynomial\n",
    "\n",
    "if __name__ == '__main__':\n",
    "    otbl = link()\n",
    "    otbl.string = \"ah ah av ah ah ah ah av av\".split()\n",
    "    otbl.homfly = homfly_for_even_cross_otbl(otbl)"
   ]
  },
  {
   "cell_type": "code",
   "execution_count": 56,
   "metadata": {},
   "outputs": [
    {
     "data": {
      "text/latex": [
       "$\\displaystyle \\frac{v^{6} z^{8} \\left(1 - v^{- 2 n}\\right)^{3} \\left(1 - v^{2 n}\\right)^{6}}{\\left(1 - v^{2}\\right)^{6} \\left(- v + \\frac{1}{v}\\right)^{2}} + \\frac{3 v^{6} v^{- 2 n} z^{6} \\left(1 - v^{- 2 n}\\right)^{2} \\left(1 - v^{2 n}\\right)^{6}}{\\left(1 - v^{2}\\right)^{6}} + \\frac{3 v^{6} v^{- 4 n} z^{4} \\left(1 - v^{- 2 n}\\right) \\left(1 - v^{2 n}\\right)^{6} \\left(- v + \\frac{1}{v}\\right)^{2}}{\\left(1 - v^{2}\\right)^{6}} + \\frac{v^{6} v^{- 6 n} z^{2} \\left(1 - v^{2 n}\\right)^{6} \\left(- v + \\frac{1}{v}\\right)^{4}}{\\left(1 - v^{2}\\right)^{6}} + \\frac{4 v^{5} v^{2 n} z^{8} \\left(1 - v^{- 2 n}\\right)^{3} \\left(1 - v^{2 n}\\right)^{5}}{\\left(1 - v^{2}\\right)^{5} \\left(- v + \\frac{1}{v}\\right)^{3}} + \\frac{2 v^{5} v^{2 n} z^{6} \\left(1 - v^{- 2 n}\\right)^{3} \\left(1 - v^{2 n}\\right)^{5}}{\\left(1 - v^{2}\\right)^{5} \\left(- v + \\frac{1}{v}\\right)} + \\frac{17 v^{5} z^{6} \\left(1 - v^{- 2 n}\\right)^{2} \\left(1 - v^{2 n}\\right)^{5}}{\\left(1 - v^{2}\\right)^{5} \\left(- v + \\frac{1}{v}\\right)} + \\frac{v^{5} z^{4} \\left(1 - v^{- 2 n}\\right)^{2} \\left(1 - v^{2 n}\\right)^{5} \\left(- v + \\frac{1}{v}\\right)}{\\left(1 - v^{2}\\right)^{5}} + \\frac{18 v^{5} v^{- 2 n} z^{4} \\left(1 - v^{- 2 n}\\right) \\left(1 - v^{2 n}\\right)^{5} \\left(- v + \\frac{1}{v}\\right)}{\\left(1 - v^{2}\\right)^{5}} + \\frac{6 v^{5} v^{- 4 n} z^{2} \\left(1 - v^{2 n}\\right)^{5} \\left(- v + \\frac{1}{v}\\right)^{3}}{\\left(1 - v^{2}\\right)^{5}} + \\frac{14 v^{4} v^{4 n} z^{6} \\left(1 - v^{- 2 n}\\right)^{3} \\left(1 - v^{2 n}\\right)^{4}}{\\left(1 - v^{2}\\right)^{4} \\left(- v + \\frac{1}{v}\\right)^{2}} + \\frac{v^{4} v^{4 n} z^{4} \\left(1 - v^{- 2 n}\\right)^{3} \\left(1 - v^{2 n}\\right)^{4}}{\\left(1 - v^{2}\\right)^{4}} + \\frac{30 v^{4} v^{2 n} z^{6} \\left(1 - v^{- 2 n}\\right)^{2} \\left(1 - v^{2 n}\\right)^{4}}{\\left(1 - v^{2}\\right)^{4} \\left(- v + \\frac{1}{v}\\right)^{2}} + \\frac{15 v^{4} v^{2 n} z^{4} \\left(1 - v^{- 2 n}\\right)^{2} \\left(1 - v^{2 n}\\right)^{4}}{\\left(1 - v^{2}\\right)^{4}} + \\frac{41 v^{4} z^{4} \\left(1 - v^{- 2 n}\\right) \\left(1 - v^{2 n}\\right)^{4}}{\\left(1 - v^{2}\\right)^{4}} + \\frac{4 v^{4} z^{2} \\left(1 - v^{- 2 n}\\right) \\left(1 - v^{2 n}\\right)^{4} \\left(- v + \\frac{1}{v}\\right)^{2}}{\\left(1 - v^{2}\\right)^{4}} + \\frac{15 v^{4} v^{- 2 n} z^{2} \\left(1 - v^{2 n}\\right)^{4} \\left(- v + \\frac{1}{v}\\right)^{2}}{\\left(1 - v^{2}\\right)^{4}} + \\frac{20 v^{3} v^{6 n} z^{4} \\left(1 - v^{- 2 n}\\right)^{3} \\left(1 - v^{2 n}\\right)^{3}}{\\left(1 - v^{2}\\right)^{3} \\left(- v + \\frac{1}{v}\\right)} + \\frac{55 v^{3} v^{4 n} z^{4} \\left(1 - v^{- 2 n}\\right)^{2} \\left(1 - v^{2 n}\\right)^{3}}{\\left(1 - v^{2}\\right)^{3} \\left(- v + \\frac{1}{v}\\right)} + \\frac{5 v^{3} v^{4 n} z^{2} \\left(1 - v^{- 2 n}\\right)^{2} \\left(1 - v^{2 n}\\right)^{3} \\left(- v + \\frac{1}{v}\\right)}{\\left(1 - v^{2}\\right)^{3}} + \\frac{33 v^{3} v^{2 n} z^{4} \\left(1 - v^{- 2 n}\\right) \\left(1 - v^{2 n}\\right)^{3}}{\\left(1 - v^{2}\\right)^{3} \\left(- v + \\frac{1}{v}\\right)} + \\frac{27 v^{3} v^{2 n} z^{2} \\left(1 - v^{- 2 n}\\right) \\left(1 - v^{2 n}\\right)^{3} \\left(- v + \\frac{1}{v}\\right)}{\\left(1 - v^{2}\\right)^{3}} + \\frac{18 v^{3} z^{2} \\left(1 - v^{2 n}\\right)^{3} \\left(- v + \\frac{1}{v}\\right)}{\\left(1 - v^{2}\\right)^{3}} + \\frac{2 v^{3} \\left(1 - v^{2 n}\\right)^{3} \\left(- v + \\frac{1}{v}\\right)^{3}}{\\left(1 - v^{2}\\right)^{3}} + \\frac{15 v^{2} v^{8 n} z^{2} \\left(1 - v^{- 2 n}\\right)^{3} \\left(1 - v^{2 n}\\right)^{2}}{\\left(1 - v^{2}\\right)^{2}} + \\frac{44 v^{2} v^{6 n} z^{2} \\left(1 - v^{- 2 n}\\right)^{2} \\left(1 - v^{2 n}\\right)^{2}}{\\left(1 - v^{2}\\right)^{2}} + \\frac{v^{2} v^{6 n} \\left(1 - v^{- 2 n}\\right)^{2} \\left(1 - v^{2 n}\\right)^{2} \\left(- v + \\frac{1}{v}\\right)^{2}}{\\left(1 - v^{2}\\right)^{2}} + \\frac{37 v^{2} v^{4 n} z^{2} \\left(1 - v^{- 2 n}\\right) \\left(1 - v^{2 n}\\right)^{2}}{\\left(1 - v^{2}\\right)^{2}} + \\frac{8 v^{2} v^{4 n} \\left(1 - v^{- 2 n}\\right) \\left(1 - v^{2 n}\\right)^{2} \\left(- v + \\frac{1}{v}\\right)^{2}}{\\left(1 - v^{2}\\right)^{2}} + \\frac{8 v^{2} v^{2 n} z^{2} \\left(1 - v^{2 n}\\right)^{2}}{\\left(1 - v^{2}\\right)^{2}} + \\frac{7 v^{2} v^{2 n} \\left(1 - v^{2 n}\\right)^{2} \\left(- v + \\frac{1}{v}\\right)^{2}}{\\left(1 - v^{2}\\right)^{2}} + \\frac{6 v v^{10 n} \\left(1 - v^{- 2 n}\\right)^{3} \\left(1 - v^{2 n}\\right) \\left(- v + \\frac{1}{v}\\right)}{1 - v^{2}} + \\frac{18 v v^{8 n} \\left(1 - v^{- 2 n}\\right)^{2} \\left(1 - v^{2 n}\\right) \\left(- v + \\frac{1}{v}\\right)}{1 - v^{2}} + \\frac{17 v v^{6 n} \\left(1 - v^{- 2 n}\\right) \\left(1 - v^{2 n}\\right) \\left(- v + \\frac{1}{v}\\right)}{1 - v^{2}} + \\frac{v v^{6 n} \\left(1 - v^{- 2 n}\\right) \\left(1 - v^{2 n}\\right) \\left(- v + \\frac{1}{v}\\right)^{3}}{z^{2} \\left(1 - v^{2}\\right)} + \\frac{5 v v^{4 n} \\left(1 - v^{2 n}\\right) \\left(- v + \\frac{1}{v}\\right)}{1 - v^{2}} + \\frac{v v^{4 n} \\left(1 - v^{2 n}\\right) \\left(- v + \\frac{1}{v}\\right)^{3}}{z^{2} \\left(1 - v^{2}\\right)} + \\frac{v^{12 n} \\left(1 - v^{- 2 n}\\right)^{3} \\left(- v + \\frac{1}{v}\\right)^{2}}{z^{2}} + \\frac{3 v^{10 n} \\left(1 - v^{- 2 n}\\right)^{2} \\left(- v + \\frac{1}{v}\\right)^{2}}{z^{2}} + \\frac{3 v^{8 n} \\left(1 - v^{- 2 n}\\right) \\left(- v + \\frac{1}{v}\\right)^{2}}{z^{2}} + \\frac{v^{6 n} \\left(- v + \\frac{1}{v}\\right)^{2}}{z^{2}}$"
      ],
      "text/plain": [
       "v**6*z**8*(1 - v**(-2*n))**3*(1 - v**(2*n))**6/((1 - v**2)**6*(-v + 1/v)**2) + 3*v**6*v**(-2*n)*z**6*(1 - v**(-2*n))**2*(1 - v**(2*n))**6/(1 - v**2)**6 + 3*v**6*v**(-4*n)*z**4*(1 - v**(-2*n))*(1 - v**(2*n))**6*(-v + 1/v)**2/(1 - v**2)**6 + v**6*v**(-6*n)*z**2*(1 - v**(2*n))**6*(-v + 1/v)**4/(1 - v**2)**6 + 4*v**5*v**(2*n)*z**8*(1 - v**(-2*n))**3*(1 - v**(2*n))**5/((1 - v**2)**5*(-v + 1/v)**3) + 2*v**5*v**(2*n)*z**6*(1 - v**(-2*n))**3*(1 - v**(2*n))**5/((1 - v**2)**5*(-v + 1/v)) + 17*v**5*z**6*(1 - v**(-2*n))**2*(1 - v**(2*n))**5/((1 - v**2)**5*(-v + 1/v)) + v**5*z**4*(1 - v**(-2*n))**2*(1 - v**(2*n))**5*(-v + 1/v)/(1 - v**2)**5 + 18*v**5*v**(-2*n)*z**4*(1 - v**(-2*n))*(1 - v**(2*n))**5*(-v + 1/v)/(1 - v**2)**5 + 6*v**5*v**(-4*n)*z**2*(1 - v**(2*n))**5*(-v + 1/v)**3/(1 - v**2)**5 + 14*v**4*v**(4*n)*z**6*(1 - v**(-2*n))**3*(1 - v**(2*n))**4/((1 - v**2)**4*(-v + 1/v)**2) + v**4*v**(4*n)*z**4*(1 - v**(-2*n))**3*(1 - v**(2*n))**4/(1 - v**2)**4 + 30*v**4*v**(2*n)*z**6*(1 - v**(-2*n))**2*(1 - v**(2*n))**4/((1 - v**2)**4*(-v + 1/v)**2) + 15*v**4*v**(2*n)*z**4*(1 - v**(-2*n))**2*(1 - v**(2*n))**4/(1 - v**2)**4 + 41*v**4*z**4*(1 - v**(-2*n))*(1 - v**(2*n))**4/(1 - v**2)**4 + 4*v**4*z**2*(1 - v**(-2*n))*(1 - v**(2*n))**4*(-v + 1/v)**2/(1 - v**2)**4 + 15*v**4*v**(-2*n)*z**2*(1 - v**(2*n))**4*(-v + 1/v)**2/(1 - v**2)**4 + 20*v**3*v**(6*n)*z**4*(1 - v**(-2*n))**3*(1 - v**(2*n))**3/((1 - v**2)**3*(-v + 1/v)) + 55*v**3*v**(4*n)*z**4*(1 - v**(-2*n))**2*(1 - v**(2*n))**3/((1 - v**2)**3*(-v + 1/v)) + 5*v**3*v**(4*n)*z**2*(1 - v**(-2*n))**2*(1 - v**(2*n))**3*(-v + 1/v)/(1 - v**2)**3 + 33*v**3*v**(2*n)*z**4*(1 - v**(-2*n))*(1 - v**(2*n))**3/((1 - v**2)**3*(-v + 1/v)) + 27*v**3*v**(2*n)*z**2*(1 - v**(-2*n))*(1 - v**(2*n))**3*(-v + 1/v)/(1 - v**2)**3 + 18*v**3*z**2*(1 - v**(2*n))**3*(-v + 1/v)/(1 - v**2)**3 + 2*v**3*(1 - v**(2*n))**3*(-v + 1/v)**3/(1 - v**2)**3 + 15*v**2*v**(8*n)*z**2*(1 - v**(-2*n))**3*(1 - v**(2*n))**2/(1 - v**2)**2 + 44*v**2*v**(6*n)*z**2*(1 - v**(-2*n))**2*(1 - v**(2*n))**2/(1 - v**2)**2 + v**2*v**(6*n)*(1 - v**(-2*n))**2*(1 - v**(2*n))**2*(-v + 1/v)**2/(1 - v**2)**2 + 37*v**2*v**(4*n)*z**2*(1 - v**(-2*n))*(1 - v**(2*n))**2/(1 - v**2)**2 + 8*v**2*v**(4*n)*(1 - v**(-2*n))*(1 - v**(2*n))**2*(-v + 1/v)**2/(1 - v**2)**2 + 8*v**2*v**(2*n)*z**2*(1 - v**(2*n))**2/(1 - v**2)**2 + 7*v**2*v**(2*n)*(1 - v**(2*n))**2*(-v + 1/v)**2/(1 - v**2)**2 + 6*v*v**(10*n)*(1 - v**(-2*n))**3*(1 - v**(2*n))*(-v + 1/v)/(1 - v**2) + 18*v*v**(8*n)*(1 - v**(-2*n))**2*(1 - v**(2*n))*(-v + 1/v)/(1 - v**2) + 17*v*v**(6*n)*(1 - v**(-2*n))*(1 - v**(2*n))*(-v + 1/v)/(1 - v**2) + v*v**(6*n)*(1 - v**(-2*n))*(1 - v**(2*n))*(-v + 1/v)**3/(z**2*(1 - v**2)) + 5*v*v**(4*n)*(1 - v**(2*n))*(-v + 1/v)/(1 - v**2) + v*v**(4*n)*(1 - v**(2*n))*(-v + 1/v)**3/(z**2*(1 - v**2)) + v**(12*n)*(1 - v**(-2*n))**3*(-v + 1/v)**2/z**2 + 3*v**(10*n)*(1 - v**(-2*n))**2*(-v + 1/v)**2/z**2 + 3*v**(8*n)*(1 - v**(-2*n))*(-v + 1/v)**2/z**2 + v**(6*n)*(-v + 1/v)**2/z**2"
      ]
     },
     "execution_count": 56,
     "metadata": {},
     "output_type": "execute_result"
    }
   ],
   "source": [
    "otbl.homfly"
   ]
  },
  {
   "cell_type": "code",
   "execution_count": 69,
   "metadata": {},
   "outputs": [],
   "source": [
    "x = sympy.simplify(otbl.homfly)"
   ]
  },
  {
   "cell_type": "code",
   "execution_count": 77,
   "metadata": {},
   "outputs": [
    {
     "data": {
      "text/latex": [
       "$\\displaystyle \\frac{v^{- 46 n - 2} \\left(v^{50 n} \\left(v^{2} - 1\\right)^{10} \\left(v^{2 n} \\left(v^{2 n} - 1\\right)^{3} + 3 v^{2 n} \\left(v^{2 n} - 1\\right)^{2} + 3 v^{2 n} \\left(v^{2 n} - 1\\right) - \\left(v^{2 n} - 1\\right)^{2} + 1\\right) + v^{40 n + 4} z^{4} \\left(v^{2} - 1\\right)^{6} \\left(v^{2 n} - 1\\right)^{6} + 3 v^{40 n + 6} z^{6} \\left(v^{2} - 1\\right)^{4} \\left(v^{2 n} - 1\\right)^{7} + 3 v^{40 n + 8} z^{8} \\left(v^{2} - 1\\right)^{2} \\left(v^{2 n} - 1\\right)^{8} + v^{40 n + 10} z^{10} \\left(v^{2 n} - 1\\right)^{9} - 6 v^{42 n + 4} z^{4} \\left(v^{2} - 1\\right)^{6} \\left(v^{2 n} - 1\\right)^{5} - v^{42 n + 6} z^{6} \\left(v^{2} - 1\\right)^{4} \\left(v^{2 n} - 1\\right)^{6} \\left(v^{2 n} + 17\\right) - v^{42 n + 8} z^{8} \\left(v^{2} - 1\\right)^{2} \\left(v^{2 n} - 1\\right)^{7} \\left(2 v^{2 n} + 15\\right) - 4 v^{42 n + 10} z^{10} \\left(v^{2 n} - 1\\right)^{8} + v^{44 n + 4} z^{4} \\left(v^{2} - 1\\right)^{6} \\left(v^{2 n} - 1\\right)^{4} \\left(4 v^{2 n} + 11\\right) + v^{44 n + 6} z^{6} \\left(v^{2} - 1\\right)^{4} \\left(v^{2 n} - 1\\right)^{5} \\left(15 v^{2 n} + \\left(v^{2 n} - 1\\right)^{2} + 26\\right) + 2 v^{44 n + 8} z^{8} \\left(v^{2} - 1\\right)^{2} \\left(v^{2 n} - 1\\right)^{6} \\left(7 v^{2 n} + 8\\right) + v^{46 n + 2} z^{4} \\left(v^{2} - 1\\right)^{6} \\left(v^{2 n} - 1\\right)^{2} \\left(18 v^{2} \\left(1 - v^{2 n}\\right) - 5 v^{2} \\left(v^{2 n} - 1\\right)^{3} - 27 v^{2} \\left(v^{2 n} - 1\\right)^{2} + 15 v^{2 n + 2} \\left(v^{2 n} - 1\\right)^{3} + 44 v^{2 n + 2} \\left(v^{2 n} - 1\\right)^{2} + 37 v^{2 n + 2} \\left(v^{2 n} - 1\\right) + 8 v^{2 n + 2}\\right) + v^{46 n + 2} z^{2} \\left(v^{2} - 1\\right)^{8} \\left(5 v^{4 n} \\left(1 - v^{2 n}\\right) - 6 v^{4 n} \\left(v^{2 n} - 1\\right)^{4} - 18 v^{4 n} \\left(v^{2 n} - 1\\right)^{3} - 17 v^{4 n} \\left(v^{2 n} - 1\\right)^{2} + v^{2 n} \\left(v^{2 n} - 1\\right)^{4} + 8 v^{2 n} \\left(v^{2 n} - 1\\right)^{3} + 7 v^{2 n} \\left(v^{2 n} - 1\\right)^{2} - 2 \\left(v^{2 n} - 1\\right)^{3}\\right) + v^{46 n + 6} z^{6} \\left(v^{2} - 1\\right)^{4} \\left(v^{2 n} - 1\\right)^{4} \\left(- 55 v^{2 n} - 20 \\left(v^{2 n} - 1\\right)^{2} + 22\\right)\\right)}{z^{2} \\left(v^{2} - 1\\right)^{8}}$"
      ],
      "text/plain": [
       "v**(-46*n - 2)*(v**(50*n)*(v**2 - 1)**10*(v**(2*n)*(v**(2*n) - 1)**3 + 3*v**(2*n)*(v**(2*n) - 1)**2 + 3*v**(2*n)*(v**(2*n) - 1) - (v**(2*n) - 1)**2 + 1) + v**(40*n + 4)*z**4*(v**2 - 1)**6*(v**(2*n) - 1)**6 + 3*v**(40*n + 6)*z**6*(v**2 - 1)**4*(v**(2*n) - 1)**7 + 3*v**(40*n + 8)*z**8*(v**2 - 1)**2*(v**(2*n) - 1)**8 + v**(40*n + 10)*z**10*(v**(2*n) - 1)**9 - 6*v**(42*n + 4)*z**4*(v**2 - 1)**6*(v**(2*n) - 1)**5 - v**(42*n + 6)*z**6*(v**2 - 1)**4*(v**(2*n) - 1)**6*(v**(2*n) + 17) - v**(42*n + 8)*z**8*(v**2 - 1)**2*(v**(2*n) - 1)**7*(2*v**(2*n) + 15) - 4*v**(42*n + 10)*z**10*(v**(2*n) - 1)**8 + v**(44*n + 4)*z**4*(v**2 - 1)**6*(v**(2*n) - 1)**4*(4*v**(2*n) + 11) + v**(44*n + 6)*z**6*(v**2 - 1)**4*(v**(2*n) - 1)**5*(15*v**(2*n) + (v**(2*n) - 1)**2 + 26) + 2*v**(44*n + 8)*z**8*(v**2 - 1)**2*(v**(2*n) - 1)**6*(7*v**(2*n) + 8) + v**(46*n + 2)*z**4*(v**2 - 1)**6*(v**(2*n) - 1)**2*(18*v**2*(1 - v**(2*n)) - 5*v**2*(v**(2*n) - 1)**3 - 27*v**2*(v**(2*n) - 1)**2 + 15*v**(2*n + 2)*(v**(2*n) - 1)**3 + 44*v**(2*n + 2)*(v**(2*n) - 1)**2 + 37*v**(2*n + 2)*(v**(2*n) - 1) + 8*v**(2*n + 2)) + v**(46*n + 2)*z**2*(v**2 - 1)**8*(5*v**(4*n)*(1 - v**(2*n)) - 6*v**(4*n)*(v**(2*n) - 1)**4 - 18*v**(4*n)*(v**(2*n) - 1)**3 - 17*v**(4*n)*(v**(2*n) - 1)**2 + v**(2*n)*(v**(2*n) - 1)**4 + 8*v**(2*n)*(v**(2*n) - 1)**3 + 7*v**(2*n)*(v**(2*n) - 1)**2 - 2*(v**(2*n) - 1)**3) + v**(46*n + 6)*z**6*(v**2 - 1)**4*(v**(2*n) - 1)**4*(-55*v**(2*n) - 20*(v**(2*n) - 1)**2 + 22))/(z**2*(v**2 - 1)**8)"
      ]
     },
     "execution_count": 77,
     "metadata": {},
     "output_type": "execute_result"
    }
   ],
   "source": [
    "x"
   ]
  },
  {
   "cell_type": "code",
   "execution_count": 20,
   "metadata": {},
   "outputs": [],
   "source": [
    "if bl[0] + bl[1] + bl[2] == '000' or bl[6] + bl[7] + bl[8] == '000':\n",
    "    print('true')"
   ]
  },
  {
   "cell_type": "code",
   "execution_count": 15,
   "metadata": {},
   "outputs": [],
   "source": [
    "a = 1\n",
    "a += 1"
   ]
  },
  {
   "cell_type": "code",
   "execution_count": 27,
   "metadata": {},
   "outputs": [],
   "source": [
    "a = 3 if False else ((8 - 2) if True else (6 - 2))"
   ]
  },
  {
   "cell_type": "code",
   "execution_count": 32,
   "metadata": {},
   "outputs": [
    {
     "data": {
      "text/plain": [
       "36"
      ]
     },
     "execution_count": 32,
     "metadata": {},
     "output_type": "execute_result"
    }
   ],
   "source": [
    "a ** 2"
   ]
  },
  {
   "cell_type": "code",
   "execution_count": null,
   "metadata": {},
   "outputs": [],
   "source": []
  }
 ],
 "metadata": {
  "kernelspec": {
   "display_name": "Python 3",
   "language": "python",
   "name": "python3"
  },
  "language_info": {
   "codemirror_mode": {
    "name": "ipython",
    "version": 3
   },
   "file_extension": ".py",
   "mimetype": "text/x-python",
   "name": "python",
   "nbconvert_exporter": "python",
   "pygments_lexer": "ipython3",
   "version": "3.7.4"
  }
 },
 "nbformat": 4,
 "nbformat_minor": 4
}
